{
 "cells": [
  {
   "cell_type": "code",
   "execution_count": 2,
   "id": "initial_id",
   "metadata": {
    "collapsed": true,
    "ExecuteTime": {
     "end_time": "2024-03-30T01:31:46.942981Z",
     "start_time": "2024-03-30T01:31:46.939691Z"
    }
   },
   "outputs": [],
   "source": [
    "import pandas as pd\n",
    "import numpy as np"
   ]
  },
  {
   "cell_type": "code",
   "outputs": [
    {
     "data": {
      "text/plain": "    MATCH_ID  SEASON  DATE_TIME          HOME_TEAM          AWAY_TEAM  \\\n0         a1    2023 2023-06-11    Manchester City              Inter   \n1         a2    2023 2023-05-17    Manchester City        Real Madrid   \n2         a3    2023 2023-05-16              Inter           AC Milan   \n3         a4    2023 2023-05-10           AC Milan              Inter   \n4         a5    2023 2023-05-09        Real Madrid    Manchester City   \n..       ...     ...        ...                ...                ...   \n614     e121    2019 2019-04-30  Tottenham Hotspur           AFC Ajax   \n615     e122    2019 2019-05-01          Barcelona       Liverpool FC   \n616     e123    2019 2019-05-07       Liverpool FC          Barcelona   \n617     e124    2019 2019-05-08           AFC Ajax  Tottenham Hotspur   \n618     e125    2019 2019-06-01  Tottenham Hotspur       Liverpool FC   \n\n                       STADIUM  HOME_TEAM_SCORE  AWAY_TEAM_SCORE  \n0            Atatürk Olimpiyat                1                0  \n1               Etihad Stadium                4                0  \n2              Giuseppe Meazza                1                0  \n3              Giuseppe Meazza                0                2  \n4            Santiago Bernabéu                1                1  \n..                         ...              ...              ...  \n614  Tottenham Hotspur Stadium                0                1  \n615           Spotify Camp Nou                3                0  \n616                    Anfield                4                0  \n617        Johan Cruijff ArenA                2                3  \n618        Wanda Metropolitano                0                2  \n\n[619 rows x 8 columns]",
      "text/html": "<div>\n<style scoped>\n    .dataframe tbody tr th:only-of-type {\n        vertical-align: middle;\n    }\n\n    .dataframe tbody tr th {\n        vertical-align: top;\n    }\n\n    .dataframe thead th {\n        text-align: right;\n    }\n</style>\n<table border=\"1\" class=\"dataframe\">\n  <thead>\n    <tr style=\"text-align: right;\">\n      <th></th>\n      <th>MATCH_ID</th>\n      <th>SEASON</th>\n      <th>DATE_TIME</th>\n      <th>HOME_TEAM</th>\n      <th>AWAY_TEAM</th>\n      <th>STADIUM</th>\n      <th>HOME_TEAM_SCORE</th>\n      <th>AWAY_TEAM_SCORE</th>\n    </tr>\n  </thead>\n  <tbody>\n    <tr>\n      <th>0</th>\n      <td>a1</td>\n      <td>2023</td>\n      <td>2023-06-11</td>\n      <td>Manchester City</td>\n      <td>Inter</td>\n      <td>Atatürk Olimpiyat</td>\n      <td>1</td>\n      <td>0</td>\n    </tr>\n    <tr>\n      <th>1</th>\n      <td>a2</td>\n      <td>2023</td>\n      <td>2023-05-17</td>\n      <td>Manchester City</td>\n      <td>Real Madrid</td>\n      <td>Etihad Stadium</td>\n      <td>4</td>\n      <td>0</td>\n    </tr>\n    <tr>\n      <th>2</th>\n      <td>a3</td>\n      <td>2023</td>\n      <td>2023-05-16</td>\n      <td>Inter</td>\n      <td>AC Milan</td>\n      <td>Giuseppe Meazza</td>\n      <td>1</td>\n      <td>0</td>\n    </tr>\n    <tr>\n      <th>3</th>\n      <td>a4</td>\n      <td>2023</td>\n      <td>2023-05-10</td>\n      <td>AC Milan</td>\n      <td>Inter</td>\n      <td>Giuseppe Meazza</td>\n      <td>0</td>\n      <td>2</td>\n    </tr>\n    <tr>\n      <th>4</th>\n      <td>a5</td>\n      <td>2023</td>\n      <td>2023-05-09</td>\n      <td>Real Madrid</td>\n      <td>Manchester City</td>\n      <td>Santiago Bernabéu</td>\n      <td>1</td>\n      <td>1</td>\n    </tr>\n    <tr>\n      <th>...</th>\n      <td>...</td>\n      <td>...</td>\n      <td>...</td>\n      <td>...</td>\n      <td>...</td>\n      <td>...</td>\n      <td>...</td>\n      <td>...</td>\n    </tr>\n    <tr>\n      <th>614</th>\n      <td>e121</td>\n      <td>2019</td>\n      <td>2019-04-30</td>\n      <td>Tottenham Hotspur</td>\n      <td>AFC Ajax</td>\n      <td>Tottenham Hotspur Stadium</td>\n      <td>0</td>\n      <td>1</td>\n    </tr>\n    <tr>\n      <th>615</th>\n      <td>e122</td>\n      <td>2019</td>\n      <td>2019-05-01</td>\n      <td>Barcelona</td>\n      <td>Liverpool FC</td>\n      <td>Spotify Camp Nou</td>\n      <td>3</td>\n      <td>0</td>\n    </tr>\n    <tr>\n      <th>616</th>\n      <td>e123</td>\n      <td>2019</td>\n      <td>2019-05-07</td>\n      <td>Liverpool FC</td>\n      <td>Barcelona</td>\n      <td>Anfield</td>\n      <td>4</td>\n      <td>0</td>\n    </tr>\n    <tr>\n      <th>617</th>\n      <td>e124</td>\n      <td>2019</td>\n      <td>2019-05-08</td>\n      <td>AFC Ajax</td>\n      <td>Tottenham Hotspur</td>\n      <td>Johan Cruijff ArenA</td>\n      <td>2</td>\n      <td>3</td>\n    </tr>\n    <tr>\n      <th>618</th>\n      <td>e125</td>\n      <td>2019</td>\n      <td>2019-06-01</td>\n      <td>Tottenham Hotspur</td>\n      <td>Liverpool FC</td>\n      <td>Wanda Metropolitano</td>\n      <td>0</td>\n      <td>2</td>\n    </tr>\n  </tbody>\n</table>\n<p>619 rows × 8 columns</p>\n</div>"
     },
     "execution_count": 3,
     "metadata": {},
     "output_type": "execute_result"
    }
   ],
   "source": [
    "#read my database\n",
    "df = pd.read_excel('/Users/liuyingxue/Desktop/UEFA Champions League 2018-2023 Data.xlsx')\n",
    "df"
   ],
   "metadata": {
    "collapsed": false,
    "ExecuteTime": {
     "end_time": "2024-03-30T01:31:47.792449Z",
     "start_time": "2024-03-30T01:31:47.444583Z"
    }
   },
   "id": "a69671df3525d052",
   "execution_count": 3
  },
  {
   "cell_type": "code",
   "outputs": [
    {
     "data": {
      "text/plain": "    MATCH_ID  SEASON  DATE_TIME          HOME_TEAM          AWAY_TEAM  \\\n0         a1    2023 2023-06-11    Manchester City              Inter   \n1         a2    2023 2023-05-17    Manchester City        Real Madrid   \n2         a3    2023 2023-05-16              Inter           AC Milan   \n3         a4    2023 2023-05-10           AC Milan              Inter   \n4         a5    2023 2023-05-09        Real Madrid    Manchester City   \n..       ...     ...        ...                ...                ...   \n614     e121    2019 2019-04-30  Tottenham Hotspur           AFC Ajax   \n615     e122    2019 2019-05-01          Barcelona       Liverpool FC   \n616     e123    2019 2019-05-07       Liverpool FC          Barcelona   \n617     e124    2019 2019-05-08           AFC Ajax  Tottenham Hotspur   \n618     e125    2019 2019-06-01  Tottenham Hotspur       Liverpool FC   \n\n                       STADIUM  HOME_TEAM_SCORE  AWAY_TEAM_SCORE  TOTAL SCORE  \n0            Atatürk Olimpiyat                1                0            1  \n1               Etihad Stadium                4                0            4  \n2              Giuseppe Meazza                1                0            1  \n3              Giuseppe Meazza                0                2           -2  \n4            Santiago Bernabéu                1                1            0  \n..                         ...              ...              ...          ...  \n614  Tottenham Hotspur Stadium                0                1           -1  \n615           Spotify Camp Nou                3                0            3  \n616                    Anfield                4                0            4  \n617        Johan Cruijff ArenA                2                3           -1  \n618        Wanda Metropolitano                0                2           -2  \n\n[619 rows x 9 columns]",
      "text/html": "<div>\n<style scoped>\n    .dataframe tbody tr th:only-of-type {\n        vertical-align: middle;\n    }\n\n    .dataframe tbody tr th {\n        vertical-align: top;\n    }\n\n    .dataframe thead th {\n        text-align: right;\n    }\n</style>\n<table border=\"1\" class=\"dataframe\">\n  <thead>\n    <tr style=\"text-align: right;\">\n      <th></th>\n      <th>MATCH_ID</th>\n      <th>SEASON</th>\n      <th>DATE_TIME</th>\n      <th>HOME_TEAM</th>\n      <th>AWAY_TEAM</th>\n      <th>STADIUM</th>\n      <th>HOME_TEAM_SCORE</th>\n      <th>AWAY_TEAM_SCORE</th>\n      <th>TOTAL SCORE</th>\n    </tr>\n  </thead>\n  <tbody>\n    <tr>\n      <th>0</th>\n      <td>a1</td>\n      <td>2023</td>\n      <td>2023-06-11</td>\n      <td>Manchester City</td>\n      <td>Inter</td>\n      <td>Atatürk Olimpiyat</td>\n      <td>1</td>\n      <td>0</td>\n      <td>1</td>\n    </tr>\n    <tr>\n      <th>1</th>\n      <td>a2</td>\n      <td>2023</td>\n      <td>2023-05-17</td>\n      <td>Manchester City</td>\n      <td>Real Madrid</td>\n      <td>Etihad Stadium</td>\n      <td>4</td>\n      <td>0</td>\n      <td>4</td>\n    </tr>\n    <tr>\n      <th>2</th>\n      <td>a3</td>\n      <td>2023</td>\n      <td>2023-05-16</td>\n      <td>Inter</td>\n      <td>AC Milan</td>\n      <td>Giuseppe Meazza</td>\n      <td>1</td>\n      <td>0</td>\n      <td>1</td>\n    </tr>\n    <tr>\n      <th>3</th>\n      <td>a4</td>\n      <td>2023</td>\n      <td>2023-05-10</td>\n      <td>AC Milan</td>\n      <td>Inter</td>\n      <td>Giuseppe Meazza</td>\n      <td>0</td>\n      <td>2</td>\n      <td>-2</td>\n    </tr>\n    <tr>\n      <th>4</th>\n      <td>a5</td>\n      <td>2023</td>\n      <td>2023-05-09</td>\n      <td>Real Madrid</td>\n      <td>Manchester City</td>\n      <td>Santiago Bernabéu</td>\n      <td>1</td>\n      <td>1</td>\n      <td>0</td>\n    </tr>\n    <tr>\n      <th>...</th>\n      <td>...</td>\n      <td>...</td>\n      <td>...</td>\n      <td>...</td>\n      <td>...</td>\n      <td>...</td>\n      <td>...</td>\n      <td>...</td>\n      <td>...</td>\n    </tr>\n    <tr>\n      <th>614</th>\n      <td>e121</td>\n      <td>2019</td>\n      <td>2019-04-30</td>\n      <td>Tottenham Hotspur</td>\n      <td>AFC Ajax</td>\n      <td>Tottenham Hotspur Stadium</td>\n      <td>0</td>\n      <td>1</td>\n      <td>-1</td>\n    </tr>\n    <tr>\n      <th>615</th>\n      <td>e122</td>\n      <td>2019</td>\n      <td>2019-05-01</td>\n      <td>Barcelona</td>\n      <td>Liverpool FC</td>\n      <td>Spotify Camp Nou</td>\n      <td>3</td>\n      <td>0</td>\n      <td>3</td>\n    </tr>\n    <tr>\n      <th>616</th>\n      <td>e123</td>\n      <td>2019</td>\n      <td>2019-05-07</td>\n      <td>Liverpool FC</td>\n      <td>Barcelona</td>\n      <td>Anfield</td>\n      <td>4</td>\n      <td>0</td>\n      <td>4</td>\n    </tr>\n    <tr>\n      <th>617</th>\n      <td>e124</td>\n      <td>2019</td>\n      <td>2019-05-08</td>\n      <td>AFC Ajax</td>\n      <td>Tottenham Hotspur</td>\n      <td>Johan Cruijff ArenA</td>\n      <td>2</td>\n      <td>3</td>\n      <td>-1</td>\n    </tr>\n    <tr>\n      <th>618</th>\n      <td>e125</td>\n      <td>2019</td>\n      <td>2019-06-01</td>\n      <td>Tottenham Hotspur</td>\n      <td>Liverpool FC</td>\n      <td>Wanda Metropolitano</td>\n      <td>0</td>\n      <td>2</td>\n      <td>-2</td>\n    </tr>\n  </tbody>\n</table>\n<p>619 rows × 9 columns</p>\n</div>"
     },
     "execution_count": 4,
     "metadata": {},
     "output_type": "execute_result"
    }
   ],
   "source": [
    "#Define total score as the number of goals by the home team minus the number of goals by the away team\n",
    "df['TOTAL SCORE'] = df['HOME_TEAM_SCORE'] - df['AWAY_TEAM_SCORE']\n",
    "df"
   ],
   "metadata": {
    "collapsed": false,
    "ExecuteTime": {
     "end_time": "2024-03-30T01:31:48.752118Z",
     "start_time": "2024-03-30T01:31:48.747089Z"
    }
   },
   "id": "30f29d96499c5df5",
   "execution_count": 4
  },
  {
   "cell_type": "code",
   "outputs": [
    {
     "name": "stdout",
     "output_type": "stream",
     "text": [
      "    MATCH_ID  SEASON  DATE_TIME          HOME_TEAM          AWAY_TEAM  \\\n",
      "0         a1    2023 2023-06-11    Manchester City              Inter   \n",
      "1         a2    2023 2023-05-17    Manchester City        Real Madrid   \n",
      "2         a3    2023 2023-05-16              Inter           AC Milan   \n",
      "3         a4    2023 2023-05-10           AC Milan              Inter   \n",
      "4         a5    2023 2023-05-09        Real Madrid    Manchester City   \n",
      "..       ...     ...        ...                ...                ...   \n",
      "614     e121    2019 2019-04-30  Tottenham Hotspur           AFC Ajax   \n",
      "615     e122    2019 2019-05-01          Barcelona       Liverpool FC   \n",
      "616     e123    2019 2019-05-07       Liverpool FC          Barcelona   \n",
      "617     e124    2019 2019-05-08           AFC Ajax  Tottenham Hotspur   \n",
      "618     e125    2019 2019-06-01  Tottenham Hotspur       Liverpool FC   \n",
      "\n",
      "                       STADIUM  HOME_TEAM_SCORE  AWAY_TEAM_SCORE  TOTAL SCORE  \\\n",
      "0            Atatürk Olimpiyat                1                0            1   \n",
      "1               Etihad Stadium                4                0            4   \n",
      "2              Giuseppe Meazza                1                0            1   \n",
      "3              Giuseppe Meazza                0                2           -2   \n",
      "4            Santiago Bernabéu                1                1            0   \n",
      "..                         ...              ...              ...          ...   \n",
      "614  Tottenham Hotspur Stadium                0                1           -1   \n",
      "615           Spotify Camp Nou                3                0            3   \n",
      "616                    Anfield                4                0            4   \n",
      "617        Johan Cruijff ArenA                2                3           -1   \n",
      "618        Wanda Metropolitano                0                2           -2   \n",
      "\n",
      "             Result  \n",
      "0    Home team wins  \n",
      "1    Home team wins  \n",
      "2    Home team wins  \n",
      "3    Away team wins  \n",
      "4              Draw  \n",
      "..              ...  \n",
      "614  Away team wins  \n",
      "615  Home team wins  \n",
      "616  Home team wins  \n",
      "617  Away team wins  \n",
      "618  Away team wins  \n",
      "\n",
      "[619 rows x 10 columns]\n"
     ]
    }
   ],
   "source": [
    "#classify the results by three conditions\n",
    "conditions = [\n",
    "    df['TOTAL SCORE'] > 0,\n",
    "    df['TOTAL SCORE'] == 0,\n",
    "    df['TOTAL SCORE'] <0\n",
    "]\n",
    "\n",
    "choices = ['Home team wins', 'Draw', 'Away team wins']\n",
    "\n",
    "df['Result'] = np.select(conditions, choices)\n",
    "\n",
    "print(df)"
   ],
   "metadata": {
    "collapsed": false,
    "ExecuteTime": {
     "end_time": "2024-03-30T01:31:49.543914Z",
     "start_time": "2024-03-30T01:31:49.531072Z"
    }
   },
   "id": "a41e69cce8b3926d",
   "execution_count": 5
  },
  {
   "cell_type": "code",
   "outputs": [],
   "source": [
    "#df.to_excel('clean_data.xlsx')"
   ],
   "metadata": {
    "collapsed": false,
    "ExecuteTime": {
     "end_time": "2024-03-30T01:32:06.325981Z",
     "start_time": "2024-03-30T01:32:06.259497Z"
    }
   },
   "id": "97f9676c2cc53e30",
   "execution_count": 8
  },
  {
   "cell_type": "code",
   "outputs": [
    {
     "data": {
      "text/plain": "array(['Manchester City', 'Inter', 'AC Milan', 'Real Madrid',\n       'Bayern Munich', 'Napoli', 'Chelsea FC', 'Benfica', 'FC Porto',\n       'Tottenham Hotspur', 'RB Leipzig', 'Liverpool FC',\n       'Eintracht Frankfurt', 'Borussia Dortmund', 'Club Brugge KV',\n       'Paris Saint-Germain', 'Maccabi Haifa', 'Juventus',\n       'FC Copenhagen', 'Shakhtar Donetsk', 'Viktoria Plzeň',\n       'Sporting CP', 'Rangers', 'Marseille', 'Bayer Leverkusen',\n       'Barcelona', 'Atlético Madrid', 'AFC Ajax', 'Dinamo Zagreb',\n       'Celtic', 'Sevilla FC', 'RB Salzburg', 'Beşiktaş', 'FC Sheriff',\n       'Dinamo Kiev', 'SL Benfica', 'BSC Young Boys', 'Villarreal CF',\n       'Atalanta', 'Manchester United', 'Lille OSC', 'VfL Wolfsburg',\n       'Malmö FF', 'Zenit St. Petersburg', 'Lokomotiv Moskva',\n       'Bor. Mönchengladbach', 'Olympiakos Piraeus',\n       'Olympique Marseille', 'FC Midtjylland', 'Stade Rennes',\n       'FK Krasnodar', 'Lazio Roma', 'Ferencvárosi TC',\n       'İstanbul Başakşehir', 'Galatasaray', 'Crvena Zvezda', 'KRC Genk',\n       'Slavia Praha', 'Olympique Lyon', 'Valencia CF', 'AS Monaco',\n       'PSV Eindhoven', 'FC Schalke 04', 'AEK Athen', '1899 Hoffenheim',\n       'CSKA Moskva', 'AS Roma'], dtype=object)"
     },
     "execution_count": 7,
     "metadata": {},
     "output_type": "execute_result"
    }
   ],
   "source": [
    "teams = df['HOME_TEAM'].unique()\n",
    "teams"
   ],
   "metadata": {
    "collapsed": false,
    "ExecuteTime": {
     "end_time": "2024-03-30T01:31:51.082726Z",
     "start_time": "2024-03-30T01:31:51.074252Z"
    }
   },
   "id": "14f2576c89934dac",
   "execution_count": 7
  },
  {
   "cell_type": "code",
   "outputs": [],
   "source": [],
   "metadata": {
    "collapsed": false,
    "ExecuteTime": {
     "end_time": "2024-03-25T23:58:08.411213Z",
     "start_time": "2024-03-25T23:58:08.407492Z"
    }
   },
   "id": "84e845f29cf5ac02",
   "execution_count": 10
  },
  {
   "cell_type": "code",
   "outputs": [],
   "source": [],
   "metadata": {
    "collapsed": false
   },
   "id": "137d61a092d73a4f"
  }
 ],
 "metadata": {
  "kernelspec": {
   "display_name": "Python 3",
   "language": "python",
   "name": "python3"
  },
  "language_info": {
   "codemirror_mode": {
    "name": "ipython",
    "version": 2
   },
   "file_extension": ".py",
   "mimetype": "text/x-python",
   "name": "python",
   "nbconvert_exporter": "python",
   "pygments_lexer": "ipython2",
   "version": "2.7.6"
  }
 },
 "nbformat": 4,
 "nbformat_minor": 5
}
